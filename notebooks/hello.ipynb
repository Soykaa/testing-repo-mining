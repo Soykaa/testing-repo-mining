{
 "cells": [
  {
   "cell_type": "code",
   "execution_count": 1,
   "id": "ccc17df8",
   "metadata": {},
   "outputs": [],
   "source": [
    "def hello_world() -> None:\n",
    "    print('hello world!')\n",
    "    print('hi')\n",
    "    print('hell')"
   ]
  },
  {
   "cell_type": "markdown",
   "id": "8cc90a42",
   "metadata": {},
   "source": [
    "some text"
   ]
  },
  {
   "cell_type": "code",
   "execution_count": 2,
   "outputs": [],
   "source": [
    "def hello_world2() -> None:\n",
    "    print('hello world!')\n",
    "    print('hi')\n",
    "    print('hell')"
   ],
   "metadata": {
    "collapsed": false
   }
  },
  {
   "cell_type": "code",
   "execution_count": null,
   "outputs": [],
   "source": [],
   "metadata": {
    "collapsed": false
   }
  },
  {
   "cell_type": "code",
   "execution_count": 3,
   "id": "26a27538",
   "metadata": {},
   "outputs": [
    {
     "name": "stdout",
     "output_type": "stream",
     "text": [
      "hello world!\n",
      "hi\n",
      "hell\n",
      "None\n"
     ]
    }
   ],
   "source": [
    "print(hello_world2())"
   ]
  },
  {
   "cell_type": "code",
   "execution_count": null,
   "id": "e2fdc9c2",
   "metadata": {},
   "outputs": [],
   "source": []
  }
 ],
 "metadata": {
  "kernelspec": {
   "display_name": "Python 3 (ipykernel)",
   "language": "python",
   "name": "python3"
  },
  "language_info": {
   "codemirror_mode": {
    "name": "ipython",
    "version": 3
   },
   "file_extension": ".py",
   "mimetype": "text/x-python",
   "name": "python",
   "nbconvert_exporter": "python",
   "pygments_lexer": "ipython3",
   "version": "3.10.9"
  }
 },
 "nbformat": 4,
 "nbformat_minor": 5
}
